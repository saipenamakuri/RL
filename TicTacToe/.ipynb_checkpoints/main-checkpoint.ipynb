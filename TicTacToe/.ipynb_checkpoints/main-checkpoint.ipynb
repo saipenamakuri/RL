{
 "cells": [
  {
   "cell_type": "code",
   "execution_count": 1,
   "id": "f0248e68",
   "metadata": {
    "ExecuteTime": {
     "end_time": "2022-08-10T21:43:18.146858Z",
     "start_time": "2022-08-10T21:43:18.026809Z"
    }
   },
   "outputs": [],
   "source": [
    "import numpy as np\n",
    "from collections import Counter"
   ]
  },
  {
   "cell_type": "code",
   "execution_count": 2,
   "id": "95ff3bfe",
   "metadata": {
    "ExecuteTime": {
     "end_time": "2022-08-10T21:43:18.162352Z",
     "start_time": "2022-08-10T21:43:18.147856Z"
    }
   },
   "outputs": [],
   "source": [
    "d = board_size = 3\n",
    "n = number_of_players = 2"
   ]
  },
  {
   "cell_type": "code",
   "execution_count": 3,
   "id": "dc05d00a",
   "metadata": {
    "ExecuteTime": {
     "end_time": "2022-08-10T21:43:18.177303Z",
     "start_time": "2022-08-10T21:43:18.163341Z"
    },
    "code_folding": []
   },
   "outputs": [],
   "source": [
    "def generate_valid_board_states(d=d, n=n):\n",
    "    def next_player(player, num_players=n):\n",
    "        return player+1 if player<num_players else 1\n",
    "    \n",
    "    def game_won_by_player(board, player, n=n, d=d):\n",
    "        # Check rows\n",
    "        if np.any(np.all(board==player, axis=1)):\n",
    "            return True\n",
    "\n",
    "        # Check columns\n",
    "        if np.any(np.all(board==player, axis=0)):\n",
    "            return True\n",
    "\n",
    "        # Check reverse diagonal\n",
    "        if np.all(np.fliplr(board).diagonal() == player):\n",
    "            return True\n",
    "\n",
    "        # Check diagonal\n",
    "        if np.all(board.diagonal() == player):\n",
    "            return True\n",
    "\n",
    "        return False\n",
    "\n",
    "\n",
    "    def game_state(board, d=d, n=n):\n",
    "        '''\n",
    "        0: Ongoing\n",
    "        1: Won by 1\n",
    "        2: Won by 2\n",
    "        ......\n",
    "        n+1: Draw\n",
    "        '''\n",
    "\n",
    "        for player in range(1, n+1):\n",
    "            if game_won_by_player(board, player):\n",
    "                return player\n",
    "\n",
    "        if np.all(board != 0):\n",
    "            return n+1\n",
    "\n",
    "        return 0\n",
    "    \n",
    "    # Use to track visited boards\n",
    "    boards = {}\n",
    "\n",
    "    # For bfs to find all board states\n",
    "    que = []\n",
    "\n",
    "    board = np.zeros((d, d)).astype(np.int32)\n",
    "\n",
    "    boards[tuple(board.flatten())] = 1\n",
    "\n",
    "    player = 1\n",
    "    que.append((board, player))\n",
    "    while que:\n",
    "        board, player = que.pop(0)\n",
    "        terminal_board = game_state(board) > 0\n",
    "            \n",
    "        if terminal_board:\n",
    "            continue\n",
    "\n",
    "        for i in range(d):\n",
    "            for j in range(d):\n",
    "                if not board[i, j]:\n",
    "                    next_board = board.copy()\n",
    "                    next_board[i, j] = player\n",
    "\n",
    "                    if not boards.get(tuple(next_board.flatten())):\n",
    "                        boards[tuple(next_board.flatten())] = 1\n",
    "                        que.append((next_board, next_player(player)))\n",
    "                        \n",
    "    valid_board_states = [np.array(board).reshape(d, d) for board in boards]\n",
    "    \n",
    "    return np.stack(valid_board_states)"
   ]
  },
  {
   "cell_type": "code",
   "execution_count": 4,
   "id": "7ccff141",
   "metadata": {
    "ExecuteTime": {
     "end_time": "2022-08-10T21:43:18.192305Z",
     "start_time": "2022-08-10T21:43:18.179308Z"
    }
   },
   "outputs": [],
   "source": [
    "class Policy:\n",
    "    def __init__(self, num_states, num_actions):\n",
    "        self.num_states = num_states\n",
    "        self.num_actions = num_actions\n",
    "        \n",
    "    def action(self):\n",
    "        pass\n",
    "\n",
    "class RandomPolicy(Policy):    \n",
    "    def action(self, board):\n",
    "        return np.random.choice(np.where(board.flatten() == 0)[0])\n",
    "\n",
    "\n",
    "class Player:    \n",
    "    def __init__(self, name, policy):\n",
    "        self.name = name\n",
    "        self.policy = policy\n",
    "        \n",
    "    def play(self, state):\n",
    "        return self.policy.action(state)\n",
    "    \n",
    "    \n",
    "class TicTacToePlayer(Player):\n",
    "    \n",
    "    def __init__(self, name):\n",
    "        super().__init__(name, RandomPolicy(3 ** 9, 9))\n",
    "        self.mark = None\n",
    "    \n",
    "    def set_mark(self, mark):\n",
    "        self.mark = mark"
   ]
  },
  {
   "cell_type": "code",
   "execution_count": 5,
   "id": "858dca3a",
   "metadata": {
    "ExecuteTime": {
     "end_time": "2022-08-10T21:43:18.207932Z",
     "start_time": "2022-08-10T21:43:18.193141Z"
    }
   },
   "outputs": [],
   "source": [
    "class Game:\n",
    "    def __init__(self, player_1, player_2, d=3):\n",
    "        player_1.set_mark(1)\n",
    "        self.player_x = player_1\n",
    "        player_2.set_mark(2)\n",
    "        self.player_o = player_2\n",
    "        self.d = d\n",
    "        self.board = np.zeros((d, d))\n",
    "        \n",
    "    @property\n",
    "    def current_game_state(self):\n",
    "        return self.game_state()\n",
    "    \n",
    "    def game_state(self):\n",
    "        '''\n",
    "        0: Ongoing\n",
    "        1: Won by x\n",
    "        2: Won by o\n",
    "        3: draw\n",
    "        '''\n",
    "\n",
    "        game_won_by_player_x = self.game_won_by_player(self.board, self.player_x.mark)\n",
    "        if game_won_by_player_x:\n",
    "            return 1\n",
    "        \n",
    "        game_won_by_player_o = self.game_won_by_player(self.board, self.player_o.mark)\n",
    "        if game_won_by_player_o:\n",
    "            return 2\n",
    "\n",
    "        game_drawn = np.all(self.board != 0)\n",
    "        if game_drawn:\n",
    "            return 3\n",
    "\n",
    "        return 0\n",
    "    \n",
    "    @staticmethod\n",
    "    def game_won_by_player(board, player_mark):\n",
    "        row_victory = np.any(np.all(board==player_mark, axis=1))\n",
    "        if row_victory:\n",
    "            return True\n",
    "\n",
    "        column_victory = np.any(np.all(board==player_mark, axis=0))\n",
    "        if column_victory:\n",
    "            return True\n",
    "\n",
    "        reverse_diagonal_victory = np.all(np.fliplr(board).diagonal() == player_mark)\n",
    "        if reverse_diagonal_victory:\n",
    "            return True\n",
    "\n",
    "        diagonal_victory = np.all(board.diagonal() == player_mark)\n",
    "        if diagonal_victory:\n",
    "            return True\n",
    "\n",
    "        return False\n",
    "    \n",
    "    def play_game(self, verbose=False):\n",
    "        \n",
    "        # TODO: Improve start logic, looks dumb\n",
    "        curr_player = self.player_o\n",
    "        while self.current_game_state == 0:\n",
    "            if verbose:\n",
    "                print(self.board, '\\n')\n",
    "            \n",
    "            curr_player = self.player_x if curr_player.mark == 2 else self.player_o\n",
    "            action = curr_player.play(self.board)\n",
    "            self.mark_board(action, curr_player.mark)\n",
    "        \n",
    "            \n",
    "        if verbose:\n",
    "            print(self.board, '\\n')\n",
    "            self.declare_results()\n",
    "   \n",
    "        \n",
    "    def mark_board(self, action, player_mark):\n",
    "        r = action // self.d\n",
    "        c = action % self.d\n",
    "        \n",
    "        self.board[r, c] = player_mark\n",
    "        \n",
    "    def declare_results(self):\n",
    "        game_state = self.current_game_state\n",
    "        \n",
    "        if game_state == 1:\n",
    "            print(f'game won by {self.player_x.name}!')   \n",
    "        elif game_state == 2:\n",
    "            print(f'game won by {self.player_o.name}!')\n",
    "        else:\n",
    "            print('game drawn!')"
   ]
  },
  {
   "cell_type": "markdown",
   "id": "8744bbbc",
   "metadata": {},
   "source": [
    "- Games played by unskilled players who play randomly always favors the cross player\n",
    "- Interestingly, ties are least likely "
   ]
  },
  {
   "cell_type": "code",
   "execution_count": 6,
   "id": "9593dc94",
   "metadata": {
    "ExecuteTime": {
     "end_time": "2022-08-10T21:43:18.989782Z",
     "start_time": "2022-08-10T21:43:18.209589Z"
    }
   },
   "outputs": [
    {
     "name": "stdout",
     "output_type": "stream",
     "text": [
      "[(1, 585), (2, 278), (3, 137)]\n"
     ]
    }
   ],
   "source": [
    "results = []\n",
    "\n",
    "for _ in range(1000):\n",
    "    player_1 = TicTacToePlayer('Satya')\n",
    "    player_2 = TicTacToePlayer('Sai')\n",
    "    game = Game(player_1, player_2)\n",
    "    game.play_game()\n",
    "    results.append(game.current_game_state)\n",
    "\n",
    "print(Counter(results).most_common())"
   ]
  },
  {
   "cell_type": "code",
   "execution_count": null,
   "id": "a7df2381",
   "metadata": {
    "deletable": false,
    "editable": false,
    "run_control": {
     "frozen": true
    }
   },
   "outputs": [],
   "source": [
    "class Match:\n",
    "    def __init__(self, player):\n",
    "        \n",
    "    \n",
    "    \n",
    "class TournamentBoard:\n",
    "\n",
    "class Tournament:\n",
    "    def __init__(self, num_players, start_policy, num_games, cutoff_ratio):\n",
    "        '''\n",
    "        num_players: Number of players participating\n",
    "        num_games: Number of games in a match\n",
    "        cutoff_ratio: Top % of players that proceed to next round    \n",
    "        '''\n",
    "        self.players = [self.Player(name, start_policy) for name in range(num_players)]\n",
    "        self.current_round = 0\n",
    "        self.cutoff_ratio = cutoff_ratio\n",
    "        self.num_games = num_games\n",
    "    \n",
    "    def play_round(self):\n",
    "        for idx, player1 in enumerate(self.players):\n",
    "            for player2 in self.players[idx+1:]:\n",
    "                \n",
    "    "
   ]
  },
  {
   "cell_type": "code",
   "execution_count": null,
   "id": "f69f7ed6",
   "metadata": {},
   "outputs": [],
   "source": []
  }
 ],
 "metadata": {
  "kernelspec": {
   "display_name": "Python 3 (ipykernel)",
   "language": "python",
   "name": "python3"
  },
  "language_info": {
   "codemirror_mode": {
    "name": "ipython",
    "version": 3
   },
   "file_extension": ".py",
   "mimetype": "text/x-python",
   "name": "python",
   "nbconvert_exporter": "python",
   "pygments_lexer": "ipython3",
   "version": "3.9.7"
  }
 },
 "nbformat": 4,
 "nbformat_minor": 5
}
